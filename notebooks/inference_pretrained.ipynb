{
  "nbformat": 4,
  "nbformat_minor": 0,
  "metadata": {
    "colab": {
      "name": "04. Super SloMo.ipynb",
      "provenance": [],
      "collapsed_sections": []
    },
    "kernelspec": {
      "name": "python3",
      "display_name": "Python 3"
    },
    "accelerator": "GPU"
  },
  "cells": [
    {
      "cell_type": "code",
      "metadata": {
        "id": "paXMHLYH130P",
        "colab_type": "code",
        "outputId": "bdd1030d-8ce0-423c-dd19-aaee11fde8aa",
        "colab": {
          "base_uri": "https://localhost:8080/",
          "height": 122
        }
      },
      "source": [
        "# mount drive, to use the uploaded dataset\n",
        "\n",
        "from google.colab import drive\n",
        "drive.mount('/content/drive')"
      ],
      "execution_count": 1,
      "outputs": [
        {
          "output_type": "stream",
          "text": [
            "Go to this URL in a browser: https://accounts.google.com/o/oauth2/auth?client_id=947318989803-6bn6qk8qdgf4n4g3pfee6491hc0brc4i.apps.googleusercontent.com&redirect_uri=urn%3aietf%3awg%3aoauth%3a2.0%3aoob&response_type=code&scope=email%20https%3a%2f%2fwww.googleapis.com%2fauth%2fdocs.test%20https%3a%2f%2fwww.googleapis.com%2fauth%2fdrive%20https%3a%2f%2fwww.googleapis.com%2fauth%2fdrive.photos.readonly%20https%3a%2f%2fwww.googleapis.com%2fauth%2fpeopleapi.readonly\n",
            "\n",
            "Enter your authorization code:\n",
            "··········\n",
            "Mounted at /content/drive\n"
          ],
          "name": "stdout"
        }
      ]
    },
    {
      "cell_type": "code",
      "metadata": {
        "id": "aNHX-vUXn3IT",
        "colab_type": "code",
        "colab": {}
      },
      "source": [
        "# install dependencies\n",
        "\n",
        "%%capture\n",
        "!pip install tensorboardX"
      ],
      "execution_count": 0,
      "outputs": []
    },
    {
      "cell_type": "code",
      "metadata": {
        "id": "MYfKDaPFg4xe",
        "colab_type": "code",
        "outputId": "5a0dcf33-3e27-4438-f00c-fd97e5e8406e",
        "colab": {
          "base_uri": "https://localhost:8080/",
          "height": 119
        }
      },
      "source": [
        "# clone code\n",
        "\n",
        "!git clone https://github.com/avinashpaliwal/Super-SloMo.git\n",
        "%cd Super-SloMo"
      ],
      "execution_count": 3,
      "outputs": [
        {
          "output_type": "stream",
          "text": [
            "Cloning into 'Super-SloMo'...\n",
            "remote: Enumerating objects: 174, done.\u001b[K\n",
            "remote: Total 174 (delta 0), reused 0 (delta 0), pack-reused 174\u001b[K\n",
            "Receiving objects: 100% (174/174), 26.88 MiB | 34.49 MiB/s, done.\n",
            "Resolving deltas: 100% (93/93), done.\n",
            "/content/Super-SloMo\n"
          ],
          "name": "stdout"
        }
      ]
    },
    {
      "cell_type": "code",
      "metadata": {
        "id": "ArK84QIRVCzV",
        "colab_type": "code",
        "colab": {}
      },
      "source": [
        "# get dataset\n",
        "\n",
        "%%capture\n",
        "!rm -rf val\n",
        "!cp '/content/drive/My Drive/__progetto int sys/data/val - Star360.zip' './'\n",
        "!mkdir val\n",
        "!unzip 'val - Star360.zip' -d val"
      ],
      "execution_count": 0,
      "outputs": []
    },
    {
      "cell_type": "code",
      "metadata": {
        "id": "_XlJUaq1YepW",
        "colab_type": "code",
        "colab": {}
      },
      "source": [
        "# inference for images\n",
        "\n",
        "from time import time\n",
        "import click\n",
        "import cv2\n",
        "import torch\n",
        "from PIL import Image\n",
        "import numpy as np\n",
        "import model\n",
        "from torchvision import transforms\n",
        "from torch.functional import F\n",
        "import os\n",
        "\n",
        "torch.set_grad_enabled(False)\n",
        "device = torch.device(\"cuda\" if torch.cuda.is_available() else \"cpu\")\n",
        "\n",
        "trans_forward = transforms.ToTensor()\n",
        "trans_backward = transforms.ToPILImage()\n",
        "if device != \"cpu\":\n",
        "    mean = [0.429, 0.431, 0.397]\n",
        "    mea0 = [-m for m in mean]\n",
        "    std = [1] * 3\n",
        "    trans_forward = transforms.Compose([trans_forward, transforms.Normalize(mean=mean, std=std)])\n",
        "    trans_backward = transforms.Compose([transforms.Normalize(mean=mea0, std=std), trans_backward])\n",
        "\n",
        "flow = model.UNet(6, 4).to(device)\n",
        "interp = model.UNet(20, 5).to(device)\n",
        "back_warp = None\n",
        "\n",
        "\n",
        "def setup_back_warp(w, h):\n",
        "    global back_warp\n",
        "    with torch.set_grad_enabled(False):\n",
        "        back_warp = model.backWarp(w, h, device).to(device)\n",
        "\n",
        "\n",
        "def load_models(checkpoint):\n",
        "    states = torch.load(checkpoint, map_location='cpu')\n",
        "    interp.load_state_dict(states['state_dictAT'])\n",
        "    flow.load_state_dict(states['state_dictFC'])\n",
        "\n",
        "\n",
        "def interpolate_batch(frames, factor):\n",
        "    frame0 = torch.stack(frames[:-1])\n",
        "    frame1 = torch.stack(frames[1:])\n",
        "\n",
        "    i0 = frame0.to(device)\n",
        "    i1 = frame1.to(device)\n",
        "    ix = torch.cat([i0, i1], dim=1)\n",
        "\n",
        "    flow_out = flow(ix)\n",
        "    f01 = flow_out[:, :2, :, :]\n",
        "    f10 = flow_out[:, 2:, :, :]\n",
        "\n",
        "    frame_buffer = []\n",
        "    for i in range(1, factor):\n",
        "        t = i / factor\n",
        "        temp = -t * (1 - t)\n",
        "        co_eff = [temp, t * t, (1 - t) * (1 - t), temp]\n",
        "\n",
        "        ft0 = co_eff[0] * f01 + co_eff[1] * f10\n",
        "        ft1 = co_eff[2] * f01 + co_eff[3] * f10\n",
        "\n",
        "        gi0ft0 = back_warp(i0, ft0)\n",
        "        gi1ft1 = back_warp(i1, ft1)\n",
        "\n",
        "        iy = torch.cat((i0, i1, f01, f10, ft1, ft0, gi1ft1, gi0ft0), dim=1)\n",
        "        io = interp(iy)\n",
        "\n",
        "        ft0f = io[:, :2, :, :] + ft0\n",
        "        ft1f = io[:, 2:4, :, :] + ft1\n",
        "        vt0 = F.sigmoid(io[:, 4:5, :, :])\n",
        "        vt1 = 1 - vt0\n",
        "\n",
        "        gi0ft0f = back_warp(i0, ft0f)\n",
        "        gi1ft1f = back_warp(i1, ft1f)\n",
        "\n",
        "        co_eff = [1 - t, t]\n",
        "\n",
        "        ft_p = (co_eff[0] * vt0 * gi0ft0f + co_eff[1] * vt1 * gi1ft1f) / \\\n",
        "               (co_eff[0] * vt0 + co_eff[1] * vt1)\n",
        "\n",
        "        frame_buffer.append(ft_p)\n",
        "\n",
        "    return frame_buffer\n",
        "\n",
        "\n",
        "def denorm_frame(frame, w0, h0):\n",
        "    frame = frame.cpu()\n",
        "    frame = trans_backward(frame)\n",
        "    frame = frame.resize((w0, h0), Image.BILINEAR)\n",
        "    frame = frame.convert('RGB')\n",
        "    return np.array(frame)[:, :, ::-1].copy()\n",
        "\n",
        "\n",
        "def interpolate_pics(source, dest, factor, batch_size=10):\n",
        "    img = []\n",
        "    for i in range(2):\n",
        "        img.append(cv2.imread(source[i]))\n",
        "    h0 = img[0].shape[0]\n",
        "    w0 = img[0].shape[1]\n",
        "\n",
        "    w, h = (w0 // 32) * 32, (h0 // 32) * 32\n",
        "    setup_back_warp(w, h)\n",
        "\n",
        "    batch = []\n",
        "    for frame in img:\n",
        "        frame = cv2.cvtColor(frame, cv2.COLOR_BGR2RGB)\n",
        "        frame = Image.fromarray(frame)\n",
        "        frame = frame.resize((w, h), Image.ANTIALIAS)\n",
        "        frame = frame.convert('RGB')\n",
        "        frame = trans_forward(frame)\n",
        "        batch.append(frame)\n",
        "\n",
        "    intermediate_frames = interpolate_batch(batch, factor)\n",
        "    intermediate_frames = list(zip(*intermediate_frames))\n",
        "    \n",
        "    i = 0\n",
        "    for fid, iframe in enumerate(intermediate_frames):\n",
        "        for frm in iframe:\n",
        "            cv2.imwrite(os.path.join(dest, str(i) + '.png'), denorm_frame(frm, w0, h0))\n",
        "            i += 1\n",
        "\n",
        "def main(input, checkpoint, output_folder, batch = 2, scale = 2):\n",
        "    avg = lambda x, n, x0: (x * n/(n+1) + x0 / (n+1), n+1)\n",
        "    load_models(checkpoint)\n",
        "    interpolate_pics(input, output_folder, int(scale), int(batch))"
      ],
      "execution_count": 0,
      "outputs": []
    },
    {
      "cell_type": "code",
      "metadata": {
        "colab_type": "code",
        "id": "MskeSd67Wd1z",
        "colab": {}
      },
      "source": [
        "# get pretrained model\n",
        "# you can get it here: https://drive.google.com/open?id=1IvobLDbRiBgZr3ryCRrWL8xDbMZ-KnpF\n",
        "\n",
        "!cp '/content/drive/My Drive/__progetto int sys/ckps/SuperSloMo.ckpt' 'data/SuperSloMo.ckpt'"
      ],
      "execution_count": 0,
      "outputs": []
    },
    {
      "cell_type": "code",
      "metadata": {
        "id": "q3eFrpXrWMo5",
        "colab_type": "code",
        "outputId": "482338f2-0b4e-4369-f59c-bb16262277c3",
        "colab": {
          "base_uri": "https://localhost:8080/",
          "height": 139
        }
      },
      "source": [
        "# generate interpolated images\n",
        "\n",
        "!rm -rf ./interp\n",
        "!mkdir ./interp\n",
        "\n",
        "import os\n",
        "\n",
        "basepath = './val'\n",
        "sub_f = os.listdir(basepath)\n",
        "sub_f.sort()\n",
        "for s in sub_f:\n",
        "  path = os.path.join(basepath, s)\n",
        "  file1 = path + '/0.jpg'\n",
        "  file2 = path + '/2.jpg'\n",
        "  os.makedirs(os.path.join('./interp', s))\n",
        "  main(input = [file1, file2], checkpoint = 'data/SuperSloMo.ckpt', output_folder = os.path.join('./interp', s))"
      ],
      "execution_count": 14,
      "outputs": [
        {
          "output_type": "stream",
          "text": [
            "/usr/local/lib/python3.6/dist-packages/torch/nn/functional.py:2506: UserWarning: Default upsampling behavior when mode=bilinear is changed to align_corners=False since 0.4.0. Please specify align_corners=True if the old behavior is desired. See the documentation of nn.Upsample for details.\n",
            "  \"See the documentation of nn.Upsample for details.\".format(mode))\n",
            "/usr/local/lib/python3.6/dist-packages/torch/nn/functional.py:2705: UserWarning: Default grid_sample and affine_grid behavior has changed to align_corners=False since 1.3.0. Please specify align_corners=True if the old behavior is desired. See the documentation of grid_sample for details.\n",
            "  warnings.warn(\"Default grid_sample and affine_grid behavior has changed \"\n",
            "/usr/local/lib/python3.6/dist-packages/torch/nn/functional.py:1351: UserWarning: nn.functional.sigmoid is deprecated. Use torch.sigmoid instead.\n",
            "  warnings.warn(\"nn.functional.sigmoid is deprecated. Use torch.sigmoid instead.\")\n"
          ],
          "name": "stderr"
        }
      ]
    },
    {
      "cell_type": "code",
      "metadata": {
        "id": "BTLsekrF3Owz",
        "colab_type": "code",
        "outputId": "acb01d9d-d72e-4f9d-908f-0911d25e686c",
        "colab": {
          "base_uri": "https://localhost:8080/",
          "height": 139
        }
      },
      "source": [
        "# get stats\n",
        "\n",
        "import PIL\n",
        "import PIL.Image\n",
        "import skimage\n",
        "import skimage.measure\n",
        "import numpy\n",
        "import math\n",
        "\n",
        "gt = '/1.jpg'\n",
        "inter = '/0.png'\n",
        "\n",
        "basepath1 = './val'\n",
        "basepath2 = './interp'\n",
        "sub_f = os.listdir(basepath)\n",
        "sub_f.sort()\n",
        "dblPsnr = []\n",
        "dblSsim = []\n",
        "dblIE = []\n",
        "for s in sub_f:\n",
        "  path1 = os.path.join(basepath1, s)\n",
        "  path2 = os.path.join(basepath2, s)\n",
        "  dblPsnr.append(skimage.measure.compare_psnr(im_true=numpy.array(PIL.Image.open(path1 + gt))[:, :, ::-1], im_test=numpy.array(PIL.Image.open(path2 + inter))[:, :, ::-1], data_range=255))\n",
        "  dblSsim.append(skimage.measure.compare_ssim(X=numpy.array(PIL.Image.open(path1 + gt))[:, :, ::-1], Y=numpy.array(PIL.Image.open(path2 + inter))[:, :, ::-1], data_range=255, multichannel=True))\n",
        "  dblIE.append(math.sqrt(skimage.measure.compare_mse(numpy.array(PIL.Image.open(path1 + gt))[:, :, ::-1], numpy.array(PIL.Image.open(path2 + inter))[:, :, ::-1])))\n",
        "\n",
        "print('computed average psnr', numpy.mean(dblPsnr))\n",
        "print('computed average ssim', numpy.mean(dblSsim))\n",
        "print('computed average ie', numpy.mean(dblIE))"
      ],
      "execution_count": 15,
      "outputs": [
        {
          "output_type": "stream",
          "text": [
            "/usr/local/lib/python3.6/dist-packages/ipykernel_launcher.py:22: UserWarning: DEPRECATED: skimage.measure.compare_psnr has been moved to skimage.metrics.peak_signal_noise_ratio. It will be removed from skimage.measure in version 0.18.\n",
            "/usr/local/lib/python3.6/dist-packages/ipykernel_launcher.py:23: UserWarning: DEPRECATED: skimage.measure.compare_ssim has been moved to skimage.metrics.structural_similarity. It will be removed from skimage.measure in version 0.18.\n",
            "/usr/local/lib/python3.6/dist-packages/ipykernel_launcher.py:24: UserWarning: DEPRECATED: skimage.measure.compare_mse has been moved to skimage.metrics.mean_squared_error. It will be removed from skimage.measure in version 0.18.\n"
          ],
          "name": "stderr"
        },
        {
          "output_type": "stream",
          "text": [
            "computed average psnr 25.076035286598195\n",
            "computed average ssim 0.895374701408127\n",
            "computed average ie 16.413606068514156\n"
          ],
          "name": "stdout"
        }
      ]
    }
  ]
}