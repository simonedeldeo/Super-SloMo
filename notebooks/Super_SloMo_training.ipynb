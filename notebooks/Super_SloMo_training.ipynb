{
  "nbformat": 4,
  "nbformat_minor": 0,
  "metadata": {
    "colab": {
      "name": "Copia di 04. Super SloMo - training - 12 frames.ipynb",
      "provenance": [],
      "collapsed_sections": []
    },
    "kernelspec": {
      "name": "python3",
      "display_name": "Python 3"
    },
    "accelerator": "GPU"
  },
  "cells": [
    {
      "cell_type": "code",
      "metadata": {
        "id": "3tMwaL2inn9V",
        "colab_type": "code",
        "outputId": "aa8a2bd0-e3ae-42e4-d22a-080835084be0",
        "colab": {
          "base_uri": "https://localhost:8080/",
          "height": 122
        }
      },
      "source": [
        "from google.colab import drive\n",
        "drive.mount('/content/drive')"
      ],
      "execution_count": 0,
      "outputs": [
        {
          "output_type": "stream",
          "text": [
            "Go to this URL in a browser: https://accounts.google.com/o/oauth2/auth?client_id=947318989803-6bn6qk8qdgf4n4g3pfee6491hc0brc4i.apps.googleusercontent.com&redirect_uri=urn%3aietf%3awg%3aoauth%3a2.0%3aoob&response_type=code&scope=email%20https%3a%2f%2fwww.googleapis.com%2fauth%2fdocs.test%20https%3a%2f%2fwww.googleapis.com%2fauth%2fdrive%20https%3a%2f%2fwww.googleapis.com%2fauth%2fdrive.photos.readonly%20https%3a%2f%2fwww.googleapis.com%2fauth%2fpeopleapi.readonly\n",
            "\n",
            "Enter your authorization code:\n",
            "··········\n",
            "Mounted at /content/drive\n"
          ],
          "name": "stdout"
        }
      ]
    },
    {
      "cell_type": "code",
      "metadata": {
        "id": "aNHX-vUXn3IT",
        "colab_type": "code",
        "colab": {}
      },
      "source": [
        "%%capture\n",
        "\n",
        "!pip install tensorboardX\n",
        "\n",
        "# dhash used for shot separation / frame skipping\n",
        "!pip install dhash"
      ],
      "execution_count": 0,
      "outputs": []
    },
    {
      "cell_type": "code",
      "metadata": {
        "id": "MYfKDaPFg4xe",
        "colab_type": "code",
        "outputId": "7763c5ab-041f-4d51-a426-82121adf84d9",
        "colab": {
          "base_uri": "https://localhost:8080/",
          "height": 102
        }
      },
      "source": [
        "!git clone https://github.com/simonedeldeo/Super-SloMo.git"
      ],
      "execution_count": 0,
      "outputs": [
        {
          "output_type": "stream",
          "text": [
            "Cloning into 'Super-SloMo'...\n",
            "remote: Enumerating objects: 174, done.\u001b[K\n",
            "remote: Total 174 (delta 0), reused 0 (delta 0), pack-reused 174\u001b[K\n",
            "Receiving objects: 100% (174/174), 26.88 MiB | 21.09 MiB/s, done.\n",
            "Resolving deltas: 100% (93/93), done.\n"
          ],
          "name": "stdout"
        }
      ]
    },
    {
      "cell_type": "code",
      "metadata": {
        "id": "3ur_l6_UkqL-",
        "colab_type": "code",
        "outputId": "5cfd07b1-ccc6-4f92-ea32-abaa86ac228c",
        "colab": {
          "base_uri": "https://localhost:8080/",
          "height": 34
        }
      },
      "source": [
        "%cd Super-SloMo"
      ],
      "execution_count": 0,
      "outputs": [
        {
          "output_type": "stream",
          "text": [
            "/content/Super-SloMo\n"
          ],
          "name": "stdout"
        }
      ]
    },
    {
      "cell_type": "code",
      "metadata": {
        "colab_type": "code",
        "outputId": "7b7d19dc-03b9-4d58-a57d-6fe26a039b12",
        "id": "Hk_b-R-DQ0K4",
        "colab": {
          "base_uri": "https://localhost:8080/",
          "height": 170
        }
      },
      "source": [
        "# creaz dataset\n",
        "\n",
        "!rm -rf sep_eps\n",
        "!rm -rf ds\n",
        "!mkdir ds\n",
        "\n",
        "import cv2\n",
        "import dhash\n",
        "from PIL import Image\n",
        "import os\n",
        "import shutil\n",
        "\n",
        "def get_num_bits_different(hash1, hash2):\n",
        "    return bin(hash1 ^ hash2).count('1')\n",
        "\n",
        "#vids = ['at_s01e01.mp4', 'at_s01e02.mp4', 'at_s01e03.mp4', 'at_s01e04.mp4', 'sao_e01.mkv', 'Akira.mkv']\n",
        "vids = ['at_s01e01.mp4', 'sao_e01.mkv', 'Akira.mkv']\n",
        "\n",
        "# used to save ds\n",
        "fld = 0\n",
        "\n",
        "for vid_path in vids:\n",
        "\n",
        "  cap = cv2.VideoCapture('/content/drive/My Drive/__progetto int sys/data/' + vid_path)\n",
        "  vid_name = vid_path.split('.')[0]\n",
        "  totalFrames = cap.get(cv2.CAP_PROP_FRAME_COUNT)\n",
        "  if totalFrames > 10000:\n",
        "    totalFrames = 10000\n",
        "  main_dir = 'sep_eps/' + vid_name\n",
        "  if os.path.exists(main_dir):\n",
        "      shutil.rmtree(main_dir)\n",
        "  os.makedirs(main_dir)\n",
        "\n",
        "  # 0 - 2: frame ripetuto => non lo salvo\n",
        "  # 0 - 9 per Akira\n",
        "  thresh_rip = 2\n",
        "  if vid_name == 'Akira':\n",
        "    thresh_rip = 9\n",
        "    # skip 2400 frames\n",
        "    for _ in range(2400):\n",
        "      _, _ = cap.read()\n",
        "\n",
        "  id_scena = 1\n",
        "  ret, prec = cap.read()\n",
        "  path = main_dir + '/' + str(id_scena).zfill(3)\n",
        "  if not os.path.exists(path):\n",
        "      os.mkdir(path)\n",
        "  cv2.imwrite(path + '/0.jpg', prec)\n",
        "  x = int(prec.shape[0] / 5)\n",
        "  y = int(prec.shape[1] / 5)\n",
        "  for i in range(1, int(totalFrames)):\n",
        "      try:\n",
        "          ret, frame = cap.read()\n",
        "          prec_res = cv2.resize(prec, (y, x))\n",
        "          frame_res = cv2.resize(frame, (y, x))\n",
        "          h1 = dhash.dhash_int(Image.fromarray(prec_res), size=16)\n",
        "          h2 = dhash.dhash_int(Image.fromarray(frame_res), size=16)\n",
        "\n",
        "          bit_diff = get_num_bits_different(h1, h2)\n",
        "\n",
        "          if bit_diff > thresh_rip:\n",
        "              # threshold trovato sperimentalmente per sep shot = 213\n",
        "              # usando 205, i falsi positivi aumentavano solo di 5\n",
        "              # meglio qualche falso pos in piu' che un falso neg\n",
        "              if bit_diff > 204:\n",
        "                  id_scena += 1\n",
        "              path = main_dir + '/' + str(id_scena).zfill(3)\n",
        "              if not os.path.exists(path):\n",
        "                  os.mkdir(path)\n",
        "              frame = cv2.resize(frame, (1280, 720))\n",
        "              cv2.imwrite(path + '/' + str(i) + '.jpg', frame)\n",
        "\n",
        "          prec = frame\n",
        "\n",
        "      except:\n",
        "          print('frame finale: ', i)\n",
        "  print(vid_name)\n",
        "\n",
        "  #########################################################\n",
        "\n",
        "  ep_path = 'sep_eps/' + vid_name\n",
        "  scenes = os.listdir(ep_path)\n",
        "  scenes.sort()\n",
        "\n",
        "  da_canc = []\n",
        "  for s in scenes:\n",
        "      folder = os.path.join(ep_path, s)\n",
        "      frames_number = os.listdir(folder)\n",
        "      if len(frames_number)<12:\n",
        "          da_canc.append(folder)\n",
        "\n",
        "  for f in da_canc:\n",
        "      shutil.rmtree(f)\n",
        "\n",
        "  #########################################################\n",
        "\n",
        "  twelveplets = []\n",
        "  lista_dir = os.listdir(ep_path)\n",
        "  lista_dir.sort()\n",
        "  for d in lista_dir:\n",
        "    dir_path = os.path.join(ep_path, d)\n",
        "    toAppend = os.listdir(dir_path)\n",
        "    if len(toAppend)>11:\n",
        "      files = []\n",
        "      for f in toAppend:\n",
        "        files.append(os.path.join(dir_path, f))\n",
        "      files.sort()\n",
        "      for i in range(len(files)-11):\n",
        "        tmp = []\n",
        "        for j in range(12):\n",
        "          tmp.append(files[i+j])\n",
        "        twelveplets.append(tmp)\n",
        "  print(len(twelveplets))\n",
        "\n",
        "  #########################################################\n",
        "\n",
        "  train_spl = int(len(twelveplets) * 9 / 10)\n",
        "  val_spl = int(len(twelveplets) * 9.5 / 10)\n",
        "\n",
        "  saved_tp = 0\n",
        "  # save ds\n",
        "  for t in twelveplets:\n",
        "    if saved_tp < train_spl:\n",
        "      save_dir = 'ds/train/' + str(fld).zfill(7)\n",
        "    elif saved_tp < val_spl:\n",
        "      save_dir = 'ds/validation/' + str(fld).zfill(7)\n",
        "    else:\n",
        "      save_dir = 'ds/test/' + str(fld).zfill(7)\n",
        "    os.makedirs(save_dir)\n",
        "    for i in range(12):\n",
        "      shutil.copyfile(t[i], save_dir + '/frame' + str(i).zfill(2) + '.jpg')\n",
        "    fld += 1\n",
        "    saved_tp += 1\n",
        "    \n",
        "  print(ep_path)\n",
        "  shutil.rmtree(ep_path)"
      ],
      "execution_count": 0,
      "outputs": [
        {
          "output_type": "stream",
          "text": [
            "at_s01e01\n",
            "4601\n",
            "sep_eps/at_s01e01\n",
            "sao_e01\n",
            "5147\n",
            "sep_eps/sao_e01\n",
            "Akira\n",
            "5456\n",
            "sep_eps/Akira\n"
          ],
          "name": "stdout"
        }
      ]
    },
    {
      "cell_type": "code",
      "metadata": {
        "id": "-RBronoaRTbm",
        "colab_type": "code",
        "outputId": "d5a844ad-2431-4e75-c010-f176c29c027b",
        "colab": {
          "base_uri": "https://localhost:8080/",
          "height": 85
        }
      },
      "source": [
        "!ls ds/train | wc -l\n",
        "!ls ds/validation | wc -l\n",
        "!ls ds/test | wc -l\n",
        "!du -hs ds"
      ],
      "execution_count": 0,
      "outputs": [
        {
          "output_type": "stream",
          "text": [
            "13682\n",
            "760\n",
            "762\n",
            "32G\tds\n"
          ],
          "name": "stdout"
        }
      ]
    },
    {
      "cell_type": "code",
      "metadata": {
        "id": "4cmBybd9nrmL",
        "colab_type": "code",
        "colab": {}
      },
      "source": [
        "#!cp '/content/drive/My Drive/__progetto int sys/ckps/SuperSloMo.ckpt' 'data/SuperSloMo.ckpt'\n",
        "!cp '/content/drive/My Drive/__progetto int sys/ckps/SuperSloMo/_new/AniDSfull720_10k/SuperSloMo0.ckpt' 'data/SuperSloMo.ckpt'"
      ],
      "execution_count": 0,
      "outputs": []
    },
    {
      "cell_type": "code",
      "metadata": {
        "id": "LvlfF4OzHaf7",
        "colab_type": "code",
        "colab": {}
      },
      "source": [
        "!rm -rf checkpoints\n",
        "!mkdir checkpoints"
      ],
      "execution_count": 0,
      "outputs": []
    },
    {
      "cell_type": "code",
      "metadata": {
        "id": "hnWWkSEbniS8",
        "colab_type": "code",
        "outputId": "ef077476-f72f-4d8c-d844-0ef8a89e5fbe",
        "colab": {
          "base_uri": "https://localhost:8080/",
          "height": 1000
        }
      },
      "source": [
        "!date\n",
        "!python train.py --dataset_root ds --checkpoint_dir checkpoints --train_continue True --checkpoint data/SuperSloMo.ckpt --checkpoint_epoch 1 --epochs 3\n",
        "!date"
      ],
      "execution_count": 0,
      "outputs": [
        {
          "output_type": "stream",
          "text": [
            "Sat Feb 15 11:53:11 UTC 2020\n",
            "Dataset SuperSloMo\n",
            "    Number of datapoints: 13682\n",
            "    Root Location: ds/train\n",
            "    Transforms (if any): Compose(\n",
            "                             ToTensor()\n",
            "                             Normalize(mean=[0.429, 0.431, 0.397], std=[1, 1, 1])\n",
            "                         )\n",
            " Dataset SuperSloMo\n",
            "    Number of datapoints: 760\n",
            "    Root Location: ds/validation\n",
            "    Transforms (if any): Compose(\n",
            "                             ToTensor()\n",
            "                             Normalize(mean=[0.429, 0.431, 0.397], std=[1, 1, 1])\n",
            "                         )\n",
            "\n",
            "Downloading: \"https://download.pytorch.org/models/vgg16-397923af.pth\" to /root/.cache/torch/checkpoints/vgg16-397923af.pth\n",
            "100% 528M/528M [00:08<00:00, 62.7MB/s]\n",
            "Epoch:  1\n",
            "/usr/local/lib/python3.6/dist-packages/torch/optim/lr_scheduler.py:122: UserWarning: Detected call of `lr_scheduler.step()` before `optimizer.step()`. In PyTorch 1.1.0 and later, you should call them in the opposite order: `optimizer.step()` before `lr_scheduler.step()`.  Failure to do this will result in PyTorch skipping the first value of the learning rate schedule. See more details at https://pytorch.org/docs/stable/optim.html#how-to-adjust-learning-rate\n",
            "  \"https://pytorch.org/docs/stable/optim.html#how-to-adjust-learning-rate\", UserWarning)\n",
            "/usr/local/lib/python3.6/dist-packages/torch/nn/functional.py:2506: UserWarning: Default upsampling behavior when mode=bilinear is changed to align_corners=False since 0.4.0. Please specify align_corners=True if the old behavior is desired. See the documentation of nn.Upsample for details.\n",
            "  \"See the documentation of nn.Upsample for details.\".format(mode))\n",
            "/usr/local/lib/python3.6/dist-packages/torch/nn/functional.py:2705: UserWarning: Default grid_sample and affine_grid behavior has changed to align_corners=False since 1.3.0. Please specify align_corners=True if the old behavior is desired. See the documentation of grid_sample for details.\n",
            "  warnings.warn(\"Default grid_sample and affine_grid behavior has changed \"\n",
            "/usr/local/lib/python3.6/dist-packages/torch/nn/functional.py:1351: UserWarning: nn.functional.sigmoid is deprecated. Use torch.sigmoid instead.\n",
            "  warnings.warn(\"nn.functional.sigmoid is deprecated. Use torch.sigmoid instead.\")\n",
            " Loss: 21.332904  Iterations:   99/2281  TrainExecTime: 106.4  ValLoss:17.629436  ValPSNR: 24.0076  ValEvalTime: 99.26 LearningRate: 0.000100\n",
            " Loss: 20.882569  Iterations:  199/2281  TrainExecTime: 104.5  ValLoss:17.401764  ValPSNR: 24.1220  ValEvalTime: 94.51 LearningRate: 0.000100\n",
            " Loss: 19.426639  Iterations:  299/2281  TrainExecTime: 104.6  ValLoss:17.773077  ValPSNR: 24.0106  ValEvalTime: 94.64 LearningRate: 0.000100\n",
            " Loss: 21.018397  Iterations:  399/2281  TrainExecTime: 104.6  ValLoss:17.323563  ValPSNR: 24.1808  ValEvalTime: 94.75 LearningRate: 0.000100\n",
            " Loss: 23.080737  Iterations:  499/2281  TrainExecTime: 105.1  ValLoss:17.499715  ValPSNR: 24.1239  ValEvalTime: 94.74 LearningRate: 0.000100\n",
            " Loss: 22.566910  Iterations:  599/2281  TrainExecTime: 104.8  ValLoss:17.472544  ValPSNR: 24.0994  ValEvalTime: 94.98 LearningRate: 0.000100\n",
            " Loss: 24.507739  Iterations:  699/2281  TrainExecTime: 104.6  ValLoss:17.560903  ValPSNR: 24.0938  ValEvalTime: 94.93 LearningRate: 0.000100\n",
            " Loss: 21.900997  Iterations:  799/2281  TrainExecTime: 104.6  ValLoss:17.397516  ValPSNR: 24.0099  ValEvalTime: 94.70 LearningRate: 0.000100\n",
            " Loss: 22.501921  Iterations:  899/2281  TrainExecTime: 104.4  ValLoss:17.377160  ValPSNR: 24.1302  ValEvalTime: 94.56 LearningRate: 0.000100\n",
            " Loss: 21.587573  Iterations:  999/2281  TrainExecTime: 104.4  ValLoss:17.603930  ValPSNR: 24.0391  ValEvalTime: 94.41 LearningRate: 0.000100\n",
            " Loss: 21.303412  Iterations: 1099/2281  TrainExecTime: 104.6  ValLoss:17.430765  ValPSNR: 24.1199  ValEvalTime: 94.45 LearningRate: 0.000100\n",
            " Loss: 19.931463  Iterations: 1199/2281  TrainExecTime: 104.4  ValLoss:17.239402  ValPSNR: 24.2347  ValEvalTime: 94.56 LearningRate: 0.000100\n",
            " Loss: 20.270103  Iterations: 1299/2281  TrainExecTime: 104.4  ValLoss:17.200188  ValPSNR: 24.1685  ValEvalTime: 94.61 LearningRate: 0.000100\n",
            " Loss: 20.379319  Iterations: 1399/2281  TrainExecTime: 104.6  ValLoss:17.628660  ValPSNR: 24.0554  ValEvalTime: 94.73 LearningRate: 0.000100\n",
            " Loss: 21.096303  Iterations: 1499/2281  TrainExecTime: 104.6  ValLoss:17.341239  ValPSNR: 24.2028  ValEvalTime: 94.70 LearningRate: 0.000100\n",
            " Loss: 21.957736  Iterations: 1599/2281  TrainExecTime: 104.5  ValLoss:17.398714  ValPSNR: 24.1381  ValEvalTime: 94.22 LearningRate: 0.000100\n",
            " Loss: 20.384676  Iterations: 1699/2281  TrainExecTime: 104.2  ValLoss:17.059884  ValPSNR: 24.2213  ValEvalTime: 94.31 LearningRate: 0.000100\n",
            " Loss: 20.138118  Iterations: 1799/2281  TrainExecTime: 104.5  ValLoss:17.241590  ValPSNR: 24.1345  ValEvalTime: 94.59 LearningRate: 0.000100\n",
            " Loss: 20.904481  Iterations: 1899/2281  TrainExecTime: 104.5  ValLoss:17.227935  ValPSNR: 24.2649  ValEvalTime: 94.42 LearningRate: 0.000100\n",
            " Loss: 21.592532  Iterations: 1999/2281  TrainExecTime: 104.6  ValLoss:17.312325  ValPSNR: 24.1711  ValEvalTime: 94.62 LearningRate: 0.000100\n",
            " Loss: 20.642235  Iterations: 2099/2281  TrainExecTime: 104.4  ValLoss:17.142145  ValPSNR: 24.1572  ValEvalTime: 94.59 LearningRate: 0.000100\n",
            " Loss: 20.537598  Iterations: 2199/2281  TrainExecTime: 104.5  ValLoss:17.259095  ValPSNR: 24.0638  ValEvalTime: 94.60 LearningRate: 0.000100\n",
            "Epoch:  2\n",
            " Loss: 20.797798  Iterations:   99/2281  TrainExecTime: 188.7  ValLoss:17.075616  ValPSNR: 24.2312  ValEvalTime: 94.65 LearningRate: 0.000100\n",
            " Loss: 20.502041  Iterations:  199/2281  TrainExecTime: 104.9  ValLoss:17.909528  ValPSNR: 24.0950  ValEvalTime: 94.59 LearningRate: 0.000100\n",
            " Loss: 23.214138  Iterations:  299/2281  TrainExecTime: 104.9  ValLoss:17.565045  ValPSNR: 24.0842  ValEvalTime: 94.57 LearningRate: 0.000100\n",
            " Loss: 20.456900  Iterations:  399/2281  TrainExecTime: 103.9  ValLoss:17.131018  ValPSNR: 24.1798  ValEvalTime: 94.58 LearningRate: 0.000100\n",
            " Loss: 22.095879  Iterations:  499/2281  TrainExecTime: 104.1  ValLoss:17.025713  ValPSNR: 24.2457  ValEvalTime: 94.67 LearningRate: 0.000100\n",
            " Loss: 20.432836  Iterations:  599/2281  TrainExecTime: 104.4  ValLoss:17.479975  ValPSNR: 24.1113  ValEvalTime: 94.59 LearningRate: 0.000100\n",
            " Loss: 19.921343  Iterations:  699/2281  TrainExecTime: 104.1  ValLoss:17.365378  ValPSNR: 24.0733  ValEvalTime: 94.60 LearningRate: 0.000100\n",
            " Loss: 21.070882  Iterations:  799/2281  TrainExecTime: 104.3  ValLoss:17.388931  ValPSNR: 24.1911  ValEvalTime: 94.60 LearningRate: 0.000100\n",
            " Loss: 22.771691  Iterations:  899/2281  TrainExecTime: 104.6  ValLoss:17.473375  ValPSNR: 24.1112  ValEvalTime: 94.72 LearningRate: 0.000100\n",
            " Loss: 20.849614  Iterations:  999/2281  TrainExecTime: 104.8  ValLoss:17.220446  ValPSNR: 24.1943  ValEvalTime: 94.98 LearningRate: 0.000100\n",
            " Loss: 21.094684  Iterations: 1099/2281  TrainExecTime: 105.1  ValLoss:17.877232  ValPSNR: 24.1257  ValEvalTime: 94.72 LearningRate: 0.000100\n",
            " Loss: 21.566175  Iterations: 1199/2281  TrainExecTime: 105.0  ValLoss:17.295110  ValPSNR: 24.1739  ValEvalTime: 94.70 LearningRate: 0.000100\n",
            " Loss: 21.861990  Iterations: 1299/2281  TrainExecTime: 105.0  ValLoss:17.474208  ValPSNR: 24.0766  ValEvalTime: 94.78 LearningRate: 0.000100\n",
            " Loss: 20.768008  Iterations: 1399/2281  TrainExecTime: 104.6  ValLoss:17.414924  ValPSNR: 24.1088  ValEvalTime: 94.58 LearningRate: 0.000100\n",
            " Loss: 21.928036  Iterations: 1499/2281  TrainExecTime: 105.0  ValLoss:17.879420  ValPSNR: 24.1828  ValEvalTime: 94.61 LearningRate: 0.000100\n",
            " Loss: 21.131153  Iterations: 1599/2281  TrainExecTime: 104.7  ValLoss:17.220070  ValPSNR: 24.1685  ValEvalTime: 94.70 LearningRate: 0.000100\n",
            " Loss: 21.158281  Iterations: 1699/2281  TrainExecTime: 105.1  ValLoss:17.208523  ValPSNR: 24.1903  ValEvalTime: 94.58 LearningRate: 0.000100\n",
            " Loss: 18.734060  Iterations: 1799/2281  TrainExecTime: 104.9  ValLoss:17.523049  ValPSNR: 24.0847  ValEvalTime: 94.72 LearningRate: 0.000100\n",
            " Loss: 21.079115  Iterations: 1899/2281  TrainExecTime: 105.0  ValLoss:17.427634  ValPSNR: 24.1552  ValEvalTime: 95.14 LearningRate: 0.000100\n",
            " Loss: 21.068807  Iterations: 1999/2281  TrainExecTime: 105.3  ValLoss:17.386605  ValPSNR: 24.1353  ValEvalTime: 94.87 LearningRate: 0.000100\n",
            " Loss: 20.529029  Iterations: 2099/2281  TrainExecTime: 104.9  ValLoss:17.273299  ValPSNR: 24.1786  ValEvalTime: 94.75 LearningRate: 0.000100\n",
            " Loss: 21.515182  Iterations: 2199/2281  TrainExecTime: 104.8  ValLoss:17.181679  ValPSNR: 24.1774  ValEvalTime: 94.89 LearningRate: 0.000100\n",
            "Sat Feb 15 14:22:57 UTC 2020\n"
          ],
          "name": "stdout"
        }
      ]
    },
    {
      "cell_type": "code",
      "metadata": {
        "colab_type": "code",
        "id": "pAP-6Lk9RWCe",
        "colab": {}
      },
      "source": [
        "!mkdir '/content/drive/My Drive/__progetto int sys/ckps/SuperSloMo/_new/AniDSfull720_10k_mr/'\n",
        "!cp /content/Super-SloMo/checkpoints/SuperSloMo0.ckpt '/content/drive/My Drive/__progetto int sys/ckps/SuperSloMo/_new/AniDSfull720_10k_mr/'\n",
        "!cp /content/Super-SloMo/checkpoints/SuperSloMo1.ckpt '/content/drive/My Drive/__progetto int sys/ckps/SuperSloMo/_new/AniDSfull720_10k_mr/'"
      ],
      "execution_count": 0,
      "outputs": []
    }
  ]
}